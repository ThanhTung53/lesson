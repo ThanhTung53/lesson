{
  "nbformat": 4,
  "nbformat_minor": 0,
  "metadata": {
    "colab": {
      "name": "Baitap_01.ipynb",
      "provenance": [],
      "authorship_tag": "ABX9TyOHKOy86fbJ1f3s+semBxbK",
      "include_colab_link": true
    },
    "kernelspec": {
      "name": "python3",
      "display_name": "Python 3"
    },
    "language_info": {
      "name": "python"
    }
  },
  "cells": [
    {
      "cell_type": "markdown",
      "metadata": {
        "id": "view-in-github",
        "colab_type": "text"
      },
      "source": [
        "<a href=\"https://colab.research.google.com/github/ThanhTung53/lesson/blob/main/Baitap_01.ipynb\" target=\"_parent\"><img src=\"https://colab.research.google.com/assets/colab-badge.svg\" alt=\"Open In Colab\"/></a>"
      ]
    },
    {
      "cell_type": "markdown",
      "metadata": {
        "id": "WUt8QVhQcEwB"
      },
      "source": [
        "Viết chương trình in ra màn hình thông điệp: \"Tuân thủ nguyên tắc 5K để phòng chống COVID\""
      ]
    },
    {
      "cell_type": "code",
      "metadata": {
        "colab": {
          "base_uri": "https://localhost:8080/"
        },
        "id": "ZJKWHziwbuwR",
        "outputId": "b0c2315a-2a28-4cd3-a26b-047a48e09bfe"
      },
      "source": [
        "print(\"Tuân thủ nguyên tắc 5K để phòng chống COVID\")"
      ],
      "execution_count": 1,
      "outputs": [
        {
          "output_type": "stream",
          "name": "stdout",
          "text": [
            "Tuân thủ nguyên tắc 5K để phòng chống COVID\n"
          ]
        }
      ]
    }
  ]
}